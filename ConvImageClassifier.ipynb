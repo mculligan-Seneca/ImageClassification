{
 "cells": [
  {
   "cell_type": "code",
   "execution_count": 20,
   "metadata": {},
   "outputs": [],
   "source": [
    "import tensorflow as tf\n",
    "from tensorflow import keras\n",
    "from keras import layers\n",
    "import matplotlib.pyplot as plt\n"
   ]
  },
  {
   "cell_type": "code",
   "execution_count": 21,
   "metadata": {},
   "outputs": [
    {
     "name": "stdout",
     "output_type": "stream",
     "text": [
      "(50000, 32, 32, 3)\n"
     ]
    },
    {
     "data": {
      "image/png": "[encoded data removed]",
      "text/plain": [
       "<Figure size 432x288 with 1 Axes>"
      ]
     },
     "metadata": {
      "needs_background": "light"
     },
     "output_type": "display_data"
    }
   ],
   "source": [
    "(x_train,y_train),(x_test,y_test)=keras.datasets.cifar10.load_data()\n",
    "\n",
    "print(x_train.shape)\n",
    "plt.imshow(x_train[0])\n",
    "LABELS=['airplane','automobile','bird','cat','deer','dog','frog','horse','ship','truck']"
   ]
  },
  {
   "cell_type": "code",
   "execution_count": 22,
   "metadata": {},
   "outputs": [
    {
     "name": "stderr",
     "output_type": "stream",
     "text": [
      "WARNING:absl:At this time, the v2.11+ optimizer `tf.keras.optimizers.Adam` runs slowly on M1/M2 Macs, please use the legacy Keras optimizer instead, located at `tf.keras.optimizers.legacy.Adam`.\n",
      "WARNING:absl:There is a known slowdown when using v2.11+ Keras optimizers on M1/M2 Macs. Falling back to the legacy Keras optimizer, i.e., `tf.keras.optimizers.legacy.Adam`.\n"
     ]
    },
    {
     "name": "stdout",
     "output_type": "stream",
     "text": [
      "Model: \"model_4\"\n",
      "_________________________________________________________________\n",
      " Layer (type)                Output Shape              Param #   \n",
      "=================================================================\n",
      " input_5 (InputLayer)        [(None, 32, 32, 3)]       0         \n",
      "                                                                 \n",
      " normalization_4 (Normaliza  (None, 32, 32, 3)         7         \n",
      " tion)                                                           \n",
      "                                                                 \n",
      " conv2d_34 (Conv2D)          (None, 32, 32, 4)         52        \n",
      "                                                                 \n",
      " average_pooling2d_15 (Aver  (None, 16, 16, 4)         0         \n",
      " agePooling2D)                                                   \n",
      "                                                                 \n",
      " conv2d_35 (Conv2D)          (None, 16, 16, 8)         136       \n",
      "                                                                 \n",
      " conv2d_36 (Conv2D)          (None, 16, 16, 12)        2412      \n",
      "                                                                 \n",
      " conv2d_37 (Conv2D)          (None, 16, 16, 12)        7068      \n",
      "                                                                 \n",
      " average_pooling2d_16 (Aver  (None, 8, 8, 12)          0         \n",
      " agePooling2D)                                                   \n",
      "                                                                 \n",
      " conv2d_38 (Conv2D)          (None, 8, 8, 24)          7224      \n",
      "                                                                 \n",
      " conv2d_39 (Conv2D)          (None, 8, 8, 32)          19232     \n",
      "                                                                 \n",
      " average_pooling2d_17 (Aver  (None, 4, 4, 32)          0         \n",
      " agePooling2D)                                                   \n",
      "                                                                 \n",
      " conv2d_40 (Conv2D)          (None, 4, 4, 64)          100416    \n",
      "                                                                 \n",
      " conv2d_41 (Conv2D)          (None, 4, 4, 80)          128080    \n",
      "                                                                 \n",
      " average_pooling2d_18 (Aver  (None, 2, 2, 80)          0         \n",
      " agePooling2D)                                                   \n",
      "                                                                 \n",
      " conv2d_42 (Conv2D)          (None, 2, 2, 160)         320160    \n",
      "                                                                 \n",
      " flatten_4 (Flatten)         (None, 640)               0         \n",
      "                                                                 \n",
      " dense_14 (Dense)            (None, 10)                6410      \n",
      "                                                                 \n",
      "=================================================================\n",
      "Total params: 591197 (2.26 MB)\n",
      "Trainable params: 591190 (2.26 MB)\n",
      "Non-trainable params: 7 (32.00 Byte)\n",
      "_________________________________________________________________\n",
      "None\n"
     ]
    }
   ],
   "source": [
    "#builds model with Keras api\n",
    "def buildModel():\n",
    "    inputs=layers.Input(shape=(32,32,3))\n",
    "    #will output 32 images if filter is specified for 32\n",
    "    #11*11 kernel Size\n",
    "    normal=layers.Normalization()(inputs)\n",
    "    #parameters are (11*11*3+1)*6 as there are 3 channels coming in from the data\n",
    "    cov0=layers.Conv2D(4,2,padding=\"same\",activation=tf.nn.relu)(normal)\n",
    "\n",
    "    pool_layer=layers.AveragePooling2D(pool_size=(2,2))(cov0)#(I-F)/S+1\n",
    "    cov1=layers.Conv2D(8,2,activation=tf.nn.relu,padding=\"same\")(pool_layer)\n",
    "    #pool_layer1=layers.AveragePooling2D(pool_size=(2,2))(cov1)\n",
    "    cov2=layers.Conv2D(12,5,padding='same',activation='relu')(cov1)\n",
    "   # pool_layer2=layers.AveragePooling2D(pool_size=(2,2))(cov2)\n",
    "    cov3=layers.Conv2D(12,7,padding='same',activation='relu')(cov2)\n",
    "    pool_layer3=layers.AveragePooling2D(pool_size=(2,2))(cov3)\n",
    "    cov4=layers.Conv2D(24,5,padding='same',activation='relu')(pool_layer3)\n",
    "    cov5=layers.Conv2D(32,5,padding='same',activation='relu')(cov4)\n",
    "    pool_layer4=layers.AveragePooling2D(pool_size=(2,2))(cov5)\n",
    "    cov6=layers.Conv2D(64,7,padding='same',activation='relu')(pool_layer4)\n",
    "    cov7=layers.Conv2D(80,5,padding='same',activation='relu')(cov6)\n",
    "    pool_layer5=layers.AveragePooling2D(pool_size=(2,2))(cov7)\n",
    "    cov8=layers.Conv2D(160,5,padding='same',activation='relu')(pool_layer5)\n",
    "    flat=layers.Flatten()(cov8)\n",
    "    h0=layers.Dense(64,activation='relu')(flat)\n",
    "    h1=layers.Dense(64,activation='relu')(h0)\n",
    "\n",
    "    outputs=layers.Dense(10,activation=tf.nn.softmax)(flat)\n",
    "\n",
    "    model=keras.Model(inputs=inputs,outputs=outputs)\n",
    "    #sparse categorical cross entropy performs one hot encoding\n",
    "    model.compile(optimizer=tf.keras.optimizers.Adam(learning_rate=1e-3),\n",
    "                  loss=keras.losses.SparseCategoricalCrossentropy(),\n",
    "                  metrics=['accuracy'])\n",
    "    return model\n",
    "\n",
    "\n",
    "\n",
    "\n",
    "model=buildModel()\n",
    "#number of paramteters for model (filter_height*filter_width*#input_channels+1)*number of filters\n",
    "print(model.summary())\n",
    "\n",
    "\n",
    "    \n",
    "    "
   ]
  },
  {
   "cell_type": "code",
   "execution_count": 23,
   "metadata": {},
   "outputs": [
    {
     "name": "stdout",
     "output_type": "stream",
     "text": [
      "Epoch 1/15\n",
      "167/167 [==============================] - 14s 82ms/step - loss: 1.8838 - accuracy: 0.2995\n",
      "Epoch 2/15\n",
      "167/167 [==============================] - 13s 79ms/step - loss: 1.4730 - accuracy: 0.4687\n",
      "Epoch 3/15\n",
      "167/167 [==============================] - 13s 78ms/step - loss: 1.3149 - accuracy: 0.5303\n",
      "Epoch 4/15\n",
      "167/167 [==============================] - 13s 76ms/step - loss: 1.1963 - accuracy: 0.5741\n",
      "Epoch 5/15\n",
      "167/167 [==============================] - 13s 76ms/step - loss: 1.1015 - accuracy: 0.6128\n",
      "Epoch 6/15\n",
      "167/167 [==============================] - 13s 76ms/step - loss: 1.0245 - accuracy: 0.6366\n",
      "Epoch 7/15\n",
      "167/167 [==============================] - 13s 76ms/step - loss: 0.9517 - accuracy: 0.6649\n",
      "Epoch 8/15\n",
      "167/167 [==============================] - 13s 77ms/step - loss: 0.8933 - accuracy: 0.6855\n",
      "Epoch 9/15\n",
      "167/167 [==============================] - 13s 77ms/step - loss: 0.8216 - accuracy: 0.7118\n",
      "Epoch 10/15\n",
      "167/167 [==============================] - 13s 77ms/step - loss: 0.7642 - accuracy: 0.7300\n",
      "Epoch 11/15\n",
      "167/167 [==============================] - 13s 77ms/step - loss: 0.7003 - accuracy: 0.7512\n",
      "Epoch 12/15\n",
      "167/167 [==============================] - 13s 77ms/step - loss: 0.6367 - accuracy: 0.7749\n",
      "Epoch 13/15\n",
      "167/167 [==============================] - 13s 77ms/step - loss: 0.5746 - accuracy: 0.7955\n",
      "Epoch 14/15\n",
      "167/167 [==============================] - 13s 78ms/step - loss: 0.5075 - accuracy: 0.8201\n",
      "Epoch 15/15\n",
      "167/167 [==============================] - 13s 77ms/step - loss: 0.4440 - accuracy: 0.8425\n"
     ]
    },
    {
     "data": {
      "text/plain": [
       "<keras.src.callbacks.History at 0x158420520>"
      ]
     },
     "execution_count": 23,
     "metadata": {},
     "output_type": "execute_result"
    }
   ],
   "source": [
    "EPOCHS=15\n",
    "BATCH_SIZE=300\n",
    "model.fit(x_train,y_train,epochs=EPOCHS,batch_size=BATCH_SIZE)"
   ]
  },
  {
   "cell_type": "code",
   "execution_count": 24,
   "metadata": {},
   "outputs": [
    {
     "name": "stdout",
     "output_type": "stream",
     "text": [
      "34/34 [==============================] - 1s 26ms/step - loss: 1.3895 - accuracy: 0.6163\n"
     ]
    },
    {
     "data": {
      "text/plain": [
       "[1.3895165920257568, 0.6162999868392944]"
      ]
     },
     "execution_count": 24,
     "metadata": {},
     "output_type": "execute_result"
    }
   ],
   "source": [
    "model.evaluate(x_test,y_test,batch_size=BATCH_SIZE)\n"
   ]
  },
  {
   "cell_type": "code",
   "execution_count": 25,
   "metadata": {},
   "outputs": [
    {
     "name": "stdout",
     "output_type": "stream",
     "text": [
      "1/1 [==============================] - 0s 49ms/step\n",
      "frog\n"
     ]
    },
    {
     "data": {
      "text/plain": [
       "<matplotlib.image.AxesImage at 0x1584200d0>"
      ]
     },
     "execution_count": 25,
     "metadata": {},
     "output_type": "execute_result"
    },
    {
     "data": {
      "image/png": "[encoded data removed]",
      "text/plain": [
       "<Figure size 432x288 with 1 Axes>"
      ]
     },
     "metadata": {
      "needs_background": "light"
     },
     "output_type": "display_data"
    }
   ],
   "source": [
    "index=7\n",
    "test_val=tf.expand_dims(x_test[index],0)\n",
    "guess=tf.argmax(tf.squeeze(model.predict(test_val)))\n",
    "\n",
    "print(LABELS[guess])\n",
    "plt.imshow(x_test[index])"
   ]
  },
  {
   "cell_type": "code",
   "execution_count": 1,
   "metadata": {},
   "outputs": [
    {
     "name": "stdout",
     "output_type": "stream",
     "text": [
      "5\n"
     ]
    }
   ],
   "source": []
  }
 ],
 "metadata": {
  "kernelspec": {
   "display_name": "Python 3",
   "language": "python",
   "name": "python3"
  },
  "language_info": {
   "codemirror_mode": {
    "name": "ipython",
    "version": 3
   },
   "file_extension": ".py",
   "mimetype": "text/x-python",
   "name": "python",
   "nbconvert_exporter": "python",
   "pygments_lexer": "ipython3",
   "version": "3.9.12"
  }
 },
 "nbformat": 4,
 "nbformat_minor": 2
}
